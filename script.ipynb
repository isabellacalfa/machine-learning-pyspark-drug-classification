{
 "cells": [
  {
   "cell_type": "markdown",
   "metadata": {},
   "source": [
    "# Projeto Final da Disciplina Fundamentos de Big Data"
   ]
  },
  {
   "cell_type": "markdown",
   "metadata": {},
   "source": [
    "**Aluna:** Isabella Calfa Vieira Costa"
   ]
  },
  {
   "cell_type": "markdown",
   "metadata": {},
   "source": [
    "## Inicialização do projeto"
   ]
  },
  {
   "cell_type": "code",
   "execution_count": 191,
   "metadata": {},
   "outputs": [],
   "source": [
    "# Bibliotecas:\n",
    "## Pyspark:\n",
    "import pyspark \n",
    "from pyspark.sql import SparkSession\n",
    "from pyspark.sql.functions import when, col, when, count, isnan\n",
    "from pyspark.ml import Pipeline\n",
    "from pyspark.ml.classification import DecisionTreeClassifier,RandomForestClassifier,NaiveBayes\n",
    "from pyspark.ml.feature import StringIndexer,OneHotEncoder,VectorAssembler,StandardScaler\n",
    "from pyspark.ml.evaluation import MulticlassClassificationEvaluator\n",
    "\n",
    "## Outras libs:\n",
    "import os\n",
    "import numpy as np\n",
    "import pandas as pd\n",
    "from pandas.plotting import scatter_matrix\n",
    "\n",
    "## Gráficos:\n",
    "import matplotlib.pyplot as plt\n",
    "import matplotlib.ticker as mtick\n",
    "import matplotlib"
   ]
  },
  {
   "cell_type": "code",
   "execution_count": 139,
   "metadata": {},
   "outputs": [],
   "source": [
    "# Criando sessão pyspark:\n",
    "MAX_MEMORY = '15G'\n",
    "# Initialize a spark session.\n",
    "conf = pyspark.SparkConf().setMaster(\"local[*]\") \\\n",
    "        .set('spark.executor.heartbeatInterval', 10000) \\\n",
    "        .set('spark.network.timeout', 10000) \\\n",
    "        .set(\"spark.core.connection.ack.wait.timeout\", \"3600\") \\\n",
    "        .set(\"spark.executor.memory\", MAX_MEMORY) \\\n",
    "        .set(\"spark.driver.memory\", MAX_MEMORY) \\\n",
    "        .set(\"spark.maxResultSize\", MAX_MEMORY)\n",
    "def init_spark():\n",
    "    spark = SparkSession \\\n",
    "        .builder \\\n",
    "        .appName(\"test\") \\\n",
    "        .config(conf=conf) \\\n",
    "        .getOrCreate()\n",
    "    return spark\n",
    "\n",
    "spark = init_spark()"
   ]
  },
  {
   "cell_type": "code",
   "execution_count": 129,
   "metadata": {},
   "outputs": [],
   "source": [
    "# Variáveis de ambiente (salvar figuras):\n",
    "PROJECT_ROOT_DIR = \".\"\n",
    "IMAGES_PATH = os.path.join(PROJECT_ROOT_DIR, \"graficos\")\n",
    "os.makedirs(IMAGES_PATH, exist_ok=True)"
   ]
  },
  {
   "cell_type": "markdown",
   "metadata": {},
   "source": [
    "## Baixando banco de dados e associando ao Spark"
   ]
  },
  {
   "cell_type": "code",
   "execution_count": 130,
   "metadata": {},
   "outputs": [],
   "source": [
    "# Importando o dataset:\n",
    "df = spark.read.csv('datasets/drug.csv', header = True, inferSchema = True)"
   ]
  },
  {
   "cell_type": "code",
   "execution_count": 131,
   "metadata": {},
   "outputs": [
    {
     "name": "stdout",
     "output_type": "stream",
     "text": [
      "root\n",
      " |-- age: integer (nullable = true)\n",
      " |-- sex: string (nullable = true)\n",
      " |-- bp: string (nullable = true)\n",
      " |-- cholesterol: string (nullable = true)\n",
      " |-- Na_to_K: double (nullable = true)\n",
      " |-- drug: string (nullable = true)\n",
      "\n"
     ]
    }
   ],
   "source": [
    "# Visualização dos tipos de dados importados:\n",
    "df.printSchema()"
   ]
  },
  {
   "cell_type": "markdown",
   "metadata": {},
   "source": [
    "Campos:\n",
    "1. Age: Idade\n",
    "2. Sex: Gênero\n",
    "3. Bp: Pressão do Sangue (Blood Pressure Levels)\n",
    "4. Cholesterol: Nível do colesterol\n",
    "5. Na_to_K: Proporção de Sódio por Potássio\n",
    "6. Drug: Remédio (droga) utilizada "
   ]
  },
  {
   "cell_type": "code",
   "execution_count": 132,
   "metadata": {},
   "outputs": [
    {
     "name": "stdout",
     "output_type": "stream",
     "text": [
      "+---+---+------+-----------+-------+-----+\n",
      "|age|sex|    bp|cholesterol|Na_to_K| drug|\n",
      "+---+---+------+-----------+-------+-----+\n",
      "| 23|  F|  HIGH|       HIGH| 25.355|drugY|\n",
      "| 47|  M|   LOW|       HIGH| 13.093|drugC|\n",
      "| 47|  M|   LOW|       HIGH| 10.114|drugC|\n",
      "| 28|  F|NORMAL|       HIGH|  7.798|drugX|\n",
      "| 61|  F|   LOW|       HIGH| 18.043|drugY|\n",
      "+---+---+------+-----------+-------+-----+\n",
      "only showing top 5 rows\n",
      "\n"
     ]
    }
   ],
   "source": [
    "# Visualização dos dados:\n",
    "df.show(5)"
   ]
  },
  {
   "cell_type": "markdown",
   "metadata": {},
   "source": [
    "## Criando duas figuras e uma tabela resumo e interpretando os dados"
   ]
  },
  {
   "cell_type": "code",
   "execution_count": 133,
   "metadata": {},
   "outputs": [
    {
     "data": {
      "text/html": [
       "<div>\n",
       "<style scoped>\n",
       "    .dataframe tbody tr th:only-of-type {\n",
       "        vertical-align: middle;\n",
       "    }\n",
       "\n",
       "    .dataframe tbody tr th {\n",
       "        vertical-align: top;\n",
       "    }\n",
       "\n",
       "    .dataframe thead th {\n",
       "        text-align: right;\n",
       "    }\n",
       "</style>\n",
       "<table border=\"1\" class=\"dataframe\">\n",
       "  <thead>\n",
       "    <tr style=\"text-align: right;\">\n",
       "      <th></th>\n",
       "      <th>summary</th>\n",
       "      <th>age</th>\n",
       "      <th>sex</th>\n",
       "      <th>bp</th>\n",
       "      <th>cholesterol</th>\n",
       "      <th>Na_to_K</th>\n",
       "      <th>drug</th>\n",
       "    </tr>\n",
       "  </thead>\n",
       "  <tbody>\n",
       "    <tr>\n",
       "      <th>0</th>\n",
       "      <td>count</td>\n",
       "      <td>200</td>\n",
       "      <td>200</td>\n",
       "      <td>200</td>\n",
       "      <td>200</td>\n",
       "      <td>200</td>\n",
       "      <td>200</td>\n",
       "    </tr>\n",
       "    <tr>\n",
       "      <th>1</th>\n",
       "      <td>mean</td>\n",
       "      <td>44.315</td>\n",
       "      <td>None</td>\n",
       "      <td>None</td>\n",
       "      <td>None</td>\n",
       "      <td>16.08448499999999</td>\n",
       "      <td>None</td>\n",
       "    </tr>\n",
       "    <tr>\n",
       "      <th>2</th>\n",
       "      <td>stddev</td>\n",
       "      <td>16.544314634751974</td>\n",
       "      <td>None</td>\n",
       "      <td>None</td>\n",
       "      <td>None</td>\n",
       "      <td>7.223955528459517</td>\n",
       "      <td>None</td>\n",
       "    </tr>\n",
       "    <tr>\n",
       "      <th>3</th>\n",
       "      <td>min</td>\n",
       "      <td>15</td>\n",
       "      <td>F</td>\n",
       "      <td>HIGH</td>\n",
       "      <td>HIGH</td>\n",
       "      <td>6.269</td>\n",
       "      <td>drugA</td>\n",
       "    </tr>\n",
       "    <tr>\n",
       "      <th>4</th>\n",
       "      <td>max</td>\n",
       "      <td>74</td>\n",
       "      <td>M</td>\n",
       "      <td>NORMAL</td>\n",
       "      <td>NORMAL</td>\n",
       "      <td>38.247</td>\n",
       "      <td>drugY</td>\n",
       "    </tr>\n",
       "  </tbody>\n",
       "</table>\n",
       "</div>"
      ],
      "text/plain": [
       "  summary                 age   sex      bp cholesterol            Na_to_K  \\\n",
       "0   count                 200   200     200         200                200   \n",
       "1    mean              44.315  None    None        None  16.08448499999999   \n",
       "2  stddev  16.544314634751974  None    None        None  7.223955528459517   \n",
       "3     min                  15     F    HIGH        HIGH              6.269   \n",
       "4     max                  74     M  NORMAL      NORMAL             38.247   \n",
       "\n",
       "    drug  \n",
       "0    200  \n",
       "1   None  \n",
       "2   None  \n",
       "3  drugA  \n",
       "4  drugY  "
      ]
     },
     "execution_count": 133,
     "metadata": {},
     "output_type": "execute_result"
    }
   ],
   "source": [
    "# Descrição do df:\n",
    "df.describe().toPandas()"
   ]
  },
  {
   "cell_type": "markdown",
   "metadata": {},
   "source": [
    "O conjunto de dados escolhido tem 200 linhas com os dados e 6 colunas com as variáveis de análise. Duas das variáveis (age e Na_to_K) são numéricas e as demais categóricas.  \n",
    "\n",
    "Sobre as variáveis numéricas:  \n",
    "1. **age:** A idade dos participantes do estudo varia entre 15 e 74 anos, mas em média fica nos 44 anos.\n",
    "2. **Na_to_K:** A variável tem amplitude entre 6,2% e 3,8% e em média os participantes tem 7,2%"
   ]
  },
  {
   "cell_type": "code",
   "execution_count": 134,
   "metadata": {},
   "outputs": [
    {
     "name": "stdout",
     "output_type": "stream",
     "text": [
      "Coluna sex:\n",
      "Valores distintos: [Row(sex='F'), Row(sex='M')]\n",
      "Valores vazios: 0\n",
      "\n",
      "Coluna bp:\n",
      "Valores distintos: [Row(bp='HIGH'), Row(bp='LOW'), Row(bp='NORMAL')]\n",
      "Valores vazios: 0\n",
      "\n",
      "Coluna cholesterol:\n",
      "Valores distintos: [Row(cholesterol='HIGH'), Row(cholesterol='NORMAL')]\n",
      "Valores vazios: 0\n",
      "\n",
      "Coluna drug:\n",
      "Valores distintos: [Row(drug='drugC'), Row(drug='drugA'), Row(drug='drugY'), Row(drug='drugB'), Row(drug='drugX')]\n",
      "Valores vazios: 0\n",
      "\n",
      "Coluna age:\n",
      "Valores vazios: 0\n",
      "\n",
      "Coluna Na_to_K:\n",
      "Valores vazios: 0\n"
     ]
    }
   ],
   "source": [
    "# Verificando os valores das variáveis:\n",
    "def exploracaoVariavel(coluna):\n",
    "    print(f'Coluna {coluna}:')\n",
    "    valoresDistintos = df.select(coluna).distinct().collect()\n",
    "    print(f'Valores distintos: {valoresDistintos}')\n",
    "    valoresVazios = df.where(col(coluna).isNull()).count()\n",
    "    print(f'Valores vazios: {valoresVazios}')\n",
    "    print()\n",
    "\n",
    "## Categóricas:\n",
    "exploracaoVariavel('sex')\n",
    "exploracaoVariavel('bp')\n",
    "exploracaoVariavel('cholesterol')\n",
    "exploracaoVariavel('drug')\n",
    "## Numéricas:\n",
    "print(f'Coluna age:')\n",
    "valoresVazios = df.where(isnan('age')).count()\n",
    "print(f'Valores vazios: {valoresVazios}')\n",
    "print()\n",
    "print(f'Coluna Na_to_K:')\n",
    "valoresVazios = df.where(isnan('Na_to_K')).count()\n",
    "print(f'Valores vazios: {valoresVazios}')"
   ]
  },
  {
   "cell_type": "markdown",
   "metadata": {},
   "source": [
    "Sobre as variáveis categóricas:\n",
    "1. **sex:** Os participantes do estudo se identificavam como sexo masculino ou feminino e não tivemos valores vazios.\n",
    "2. **bp:** A pressão do sangue pode assumir três graduações: baixa, normal ou alta.\n",
    "3. **cholesterol:** O colesterol dos participantes ou estava em nível normal ou em nível alto.\n",
    "4. **drug:** Existem 5 tipos de remédios que podem ser utilizados pelos participantes, conforme descrito."
   ]
  },
  {
   "cell_type": "code",
   "execution_count": 135,
   "metadata": {},
   "outputs": [
    {
     "data": {
      "text/plain": [
       "Text(0.5, 1.0, 'Quantidade x Remédio (droga)')"
      ]
     },
     "execution_count": 135,
     "metadata": {},
     "output_type": "execute_result"
    },
    {
     "data": {
      "image/png": "[encoded data removed]",
      "text/plain": [
       "<Figure size 432x288 with 1 Axes>"
      ]
     },
     "metadata": {
      "needs_background": "light"
     },
     "output_type": "display_data"
    }
   ],
   "source": [
    "# Visualização do uso dos remédios (drogas):\n",
    "drug_rank_df = df.select(df.drug).groupBy(df.drug).count().toPandas()\n",
    "\n",
    "## Gráfico:\n",
    "ax = drug_rank_df.plot.bar(x='drug',y='count',legend=False)\n",
    "ax.set_ylabel('Qtd.')\n",
    "ax.set_xlabel('Remédio (droga)')\n",
    "ax.bar_label(ax.containers[0])\n",
    "plt.title('Quantidade x Remédio (droga)')"
   ]
  },
  {
   "cell_type": "markdown",
   "metadata": {},
   "source": [
    "A droga Y é a mais utilizada pelos participantes do estudo, seguida da droga X."
   ]
  },
  {
   "cell_type": "code",
   "execution_count": 137,
   "metadata": {},
   "outputs": [
    {
     "data": {
      "image/png": "[encoded data removed]",
      "text/plain": [
       "<Figure size 576x432 with 1 Axes>"
      ]
     },
     "metadata": {
      "needs_background": "light"
     },
     "output_type": "display_data"
    }
   ],
   "source": [
    "# Avaliação de Remédios por Sexo:\n",
    "drug_by_sex_df = df.groupBy('drug', 'sex').count().toPandas()\n",
    "\n",
    "## Gráfico:\n",
    "fig = plt.figure(figsize=(8, 6))\n",
    "grid_size = (1,1)\n",
    "ax = plt.subplot2grid(grid_size, (0,0), colspan=1, rowspan=1)\n",
    "plot = drug_by_sex_df.groupby(['drug', 'sex']).agg(np.mean).groupby(level=0).apply(\n",
    "    lambda x: 100 * x / x.sum()).unstack().plot(kind='barh', stacked=True, width=1  \n",
    "                , edgecolor='black', ax=ax, title='Tipo de remédio (droga) por sexo')\n",
    "ylabel = plt.ylabel('Remédio (droga)')\n",
    "xlabel = plt.xlabel('Participção por sexo')\n",
    "legend = plt.legend(\n",
    "    sorted(drug_by_sex_df['sex'].unique()), loc='center left', bbox_to_anchor=(1.0, 0.5)\n",
    ")\n",
    "param_update = plt.rcParams.update({'font.size': 12})\n",
    "ax = plt.gca()\n",
    "formatter = ax.xaxis.set_major_formatter(mtick.PercentFormatter())\n",
    "a = fig.tight_layout()\n",
    "plt.show()"
   ]
  },
  {
   "cell_type": "markdown",
   "metadata": {},
   "source": [
    "As drogas A, B e C são utilizadas predominantemente por homens, enquanto as drogas X e Y tem distribuição mais igualitárias entre homens e mulheres."
   ]
  },
  {
   "cell_type": "code",
   "execution_count": 149,
   "metadata": {},
   "outputs": [
    {
     "data": {
      "image/png": "[encoded data removed]",
      "text/plain": [
       "<Figure size 576x576 with 4 Axes>"
      ]
     },
     "metadata": {
      "needs_background": "light"
     },
     "output_type": "display_data"
    }
   ],
   "source": [
    "# Correlação entre as variáveis:               \n",
    "numeric_data = df.select('age','Na_to_k').toPandas()\n",
    "axs = pd.plotting.scatter_matrix(numeric_data, figsize=(8, 8));\n",
    "n = len(numeric_data.columns)\n",
    "for i in range(n):\n",
    "    v = axs[i, 0]\n",
    "    v.yaxis.label.set_rotation(0)\n",
    "    v.yaxis.label.set_ha('right')\n",
    "    v.set_yticks(())\n",
    "    h = axs[n-1, i]\n",
    "    h.xaxis.label.set_rotation(90)\n",
    "    h.set_xticks(())"
   ]
  },
  {
   "cell_type": "markdown",
   "metadata": {},
   "source": [
    "## Utilizando uma técnica e interpretando o resultado"
   ]
  },
  {
   "cell_type": "code",
   "execution_count": 175,
   "metadata": {},
   "outputs": [
    {
     "name": "stdout",
     "output_type": "stream",
     "text": [
      "+---+---+----+-----------+-------+-----+---------+\n",
      "|age|sex|  bp|cholesterol|Na_to_K| drug|drugIndex|\n",
      "+---+---+----+-----------+-------+-----+---------+\n",
      "| 23|  F|HIGH|       HIGH| 25.355|drugY|      0.0|\n",
      "| 47|  M| LOW|       HIGH| 13.093|drugC|      4.0|\n",
      "| 47|  M| LOW|       HIGH| 10.114|drugC|      4.0|\n",
      "+---+---+----+-----------+-------+-----+---------+\n",
      "only showing top 3 rows\n",
      "\n",
      "root\n",
      " |-- age: integer (nullable = true)\n",
      " |-- sex: string (nullable = true)\n",
      " |-- bp: string (nullable = true)\n",
      " |-- cholesterol: string (nullable = true)\n",
      " |-- Na_to_K: double (nullable = true)\n",
      " |-- drug: string (nullable = true)\n",
      " |-- drugIndex: double (nullable = false)\n",
      "\n"
     ]
    }
   ],
   "source": [
    "# Convertendo variáveis categóricas em numéricas:\n",
    "sexIndexer = StringIndexer(inputCol = 'sex',outputCol='sexIndexer')\n",
    "sexEncoder = OneHotEncoder(inputCol = 'sexIndexer',outputCol = 'sexEncoder')\n",
    "bpIndexer = StringIndexer(inputCol = 'bp',outputCol='bpIndexer')\n",
    "bpEncoder = OneHotEncoder(inputCol = 'bpIndexer',outputCol = 'bpEncoder')\n",
    "cholesterolIndexer = StringIndexer(inputCol = 'cholesterol',outputCol='cholesterolIndexer')\n",
    "cholesterolEncoder = OneHotEncoder(inputCol = 'cholesterolIndexer',outputCol = 'cholesterolEncoder')\n",
    "drugIndex = StringIndexer(inputCol = 'drug',outputCol='drugIndex')\n",
    "indexed = drugIndex.fit(df).transform(df)\n",
    "\n",
    "## Verificar os dados:\n",
    "indexed.show(3)\n",
    "indexed.printSchema()"
   ]
  },
  {
   "cell_type": "code",
   "execution_count": 176,
   "metadata": {},
   "outputs": [],
   "source": [
    "# Definição das variáveis de análise:\n",
    "assembler = VectorAssembler(inputCols=['age','sexEncoder','bpEncoder','cholesterolEncoder','Na_to_K'], outputCol='features')\n",
    "sc = StandardScaler(inputCol = \"features\",outputCol = \"standardFeatures\")"
   ]
  },
  {
   "cell_type": "code",
   "execution_count": 195,
   "metadata": {},
   "outputs": [],
   "source": [
    "# Modelos de Classificação:\n",
    "## Árvore de decisão:\n",
    "ad = DecisionTreeClassifier(featuresCol='standardFeatures',labelCol='drugIndex')\n",
    "pip1 = Pipeline(stages = [sexIndexer,sexEncoder,bpIndexer,bpEncoder,cholesterolIndexer,cholesterolEncoder,assembler,\n",
    "                                 sc,\n",
    "                                 ad])\n",
    "\n",
    "## Florestas aleatórias:\n",
    "fa = RandomForestClassifier(featuresCol='standardFeatures',labelCol='drugIndex')                               \n",
    "pip2 = Pipeline(stages = [sexIndexer,sexEncoder,bpIndexer,bpEncoder,cholesterolIndexer,cholesterolEncoder,assembler,\n",
    "                                 sc,\n",
    "                                 fa])      \n",
    "\n",
    "## Naive Bayes:                                                            \n",
    "nb = NaiveBayes(featuresCol='standardFeatures',labelCol='drugIndex')                               \n",
    "pip3 = Pipeline(stages = [sexIndexer,sexEncoder,bpIndexer,bpEncoder,cholesterolIndexer,cholesterolEncoder,assembler,\n",
    "                                 sc,\n",
    "                                 nb])                                                                   "
   ]
  },
  {
   "cell_type": "code",
   "execution_count": 199,
   "metadata": {},
   "outputs": [
    {
     "name": "stdout",
     "output_type": "stream",
     "text": [
      "Acurácia da Árvore de Decisão: 0.99\n",
      "Acurácia da Floresta Aleatória: 0.985\n",
      "Acurácia da Naive Bayes: 0.55\n"
     ]
    }
   ],
   "source": [
    "# Aplicando os modelos:\n",
    "## Divisão em treino e teste:\n",
    "train,test = indexed.randomSplit([0.7,0.3], seed=2)\n",
    "\n",
    "## Métrica de Avaliação:\n",
    "evaluation_metric = MulticlassClassificationEvaluator(predictionCol = 'prediction', labelCol = 'drugIndex')\n",
    "\n",
    "## Testes dos Modelos:\n",
    "def modelos(pipeline):\n",
    "    model = pipeline.fit(train)\n",
    "    result = model.transform(test)\n",
    "    predTarget = model.transform(indexed).select('drugIndex','prediction')\n",
    "    acc=evaluation_metric.evaluate(predTarget,{evaluation_metric.metricName: \"accuracy\"})\n",
    "    return acc\n",
    "\n",
    "## Resultados:\n",
    "acur=modelos(pip1)\n",
    "print(f'Acurácia da Árvore de Decisão: {acur}')\n",
    "acur=modelos(pip2)\n",
    "print(f'Acurácia da Floresta Aleatória: {acur}')\n",
    "acur=modelos(pip3)\n",
    "print(f'Acurácia da Naive Bayes: {acur}')"
   ]
  },
  {
   "cell_type": "markdown",
   "metadata": {},
   "source": [
    "Foram utilizados três modelos para tentar classificar qual a droga utilizada conforme as informações do paciente: Árvore de Decisão, Floresta Aleatória e Naive Bayes. Os modelos de Árvore de Decisão e Floresta Aleatória tem acurácia muito parecida e próxima de 1 (máximo), enquando o de Naive Bayes tem acurárcia baixa e seria prontamente descartado. No caso em análise, prefere-se utilizar o modelo de Árvore de Decisão pela acurácia levemente superior."
   ]
  },
  {
   "cell_type": "markdown",
   "metadata": {},
   "source": [
    "## Referências"
   ]
  },
  {
   "cell_type": "markdown",
   "metadata": {},
   "source": [
    "Foram utilizadas as seguintes referências para o trabalho:  \n",
    "[How to use pyspark to machine learning project](https://towardsdatascience.com/how-to-use-pyspark-for-your-machine-learning-project-19aa138e96ec)  \n",
    "[Exploratory data analysis with pyspark on databricks](https://towardsdatascience.com/exploratory-data-analysis-eda-with-pyspark-on-databricks-e8d6529626b1)  \n",
    "[Machine learning with pyspark and mllib](https://towardsdatascience.com/machine-learning-with-pyspark-and-mllib-solving-a-binary-classification-problem-96396065d2aa)  \n",
    "[Drug Classification Dataset](https://www.kaggle.com/datasets/prathamtripathi/drug-classification)  \n",
    "[Advanced pyspark for exploratory analysis](https://www.kaggle.com/code/tientd95/advanced-pyspark-for-exploratory-data-analysis/notebook#5.-Explolatory-Data-analysis-)  \n",
    "[Exploratory Data Analysis](https://www.kaggle.com/code/tientd95/advanced-pyspark-for-exploratory-data-analysis/notebook#5.-Explolatory-Data-analysis-)"
   ]
  }
 ],
 "metadata": {
  "interpreter": {
   "hash": "d1cad01a2fa484a596042af4c5a27bfadd01597140342827aba738977e0e7eb3"
  },
  "kernelspec": {
   "display_name": "Python 3.8.5 32-bit",
   "language": "python",
   "name": "python3"
  },
  "language_info": {
   "codemirror_mode": {
    "name": "ipython",
    "version": 3
   },
   "file_extension": ".py",
   "mimetype": "text/x-python",
   "name": "python",
   "nbconvert_exporter": "python",
   "pygments_lexer": "ipython3",
   "version": "3.8.5"
  },
  "orig_nbformat": 4
 },
 "nbformat": 4,
 "nbformat_minor": 2
}
